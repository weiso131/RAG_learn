{
 "cells": [
  {
   "cell_type": "code",
   "execution_count": 2,
   "metadata": {},
   "outputs": [
    {
     "data": {
      "text/plain": [
       "['Arcaea is a rhythm video game developed and published by Lowiro (stylized as \\nlowiro). The game was released on iOS and Android mobile platforms on 9 March \\n2017. A single -player version of the game was released for the Nintendo Switch \\non 18 May 2021.  \\n',\n",
       " 'During gameplay, players must keep track of two sets of notes moving across the \\nscreen, and tap the screen or press controller buttons when the notes intersect \\nwith the guiding lines.  \\nThe game has 5 difficulties: Past, Present, Future, Eternal,  and Beyond  \\n(shortened to PST, PRS, FTR, ETR, and BYD). It has a difficulty scale of 1 -12, with \\n7, 8, 9, and 10 having + variants (e.g. Future 9+).  \\nThe game features 3D rhythm mechanics, especially on the Present, Future and \\nBeyond difficulty levels. This screenshot showcases such mechanics in a song \\non Future difficulty.  \\nThe game includes characters that give various beneficial effects while playing \\nthe rhythm game, and they gain experience points when selected for gameplay.  \\n',\n",
       " 'Arcaea began as a single -developer project by Anton Prydatko, inspired by \\nJapanese arcade rhythm games.  Prydatko founded Lowiro in the United \\nKingdom, but many of the musicians working on Arcaea are Japanese indie or \\ndoujin composers, and the majority of its players are Japanese.  \\nIt was important to the developers that the game\\'s monetization method allow \\nplayers to \"own\" their purchased content - players can buy \"packs\" of songs and \\nplay them an unlimited amount, unlike the \"stamina\" model of mobile game \\nmonetization that limits p lay time.  \\n']"
      ]
     },
     "execution_count": 2,
     "metadata": {},
     "output_type": "execute_result"
    }
   ],
   "source": [
    "from util import make_document\n",
    "\n",
    "DIR_PATH = \"data/\"\n",
    "\n",
    "documents = make_document(DIR_PATH)\n",
    "documents"
   ]
  },
  {
   "cell_type": "code",
   "execution_count": 10,
   "metadata": {},
   "outputs": [
    {
     "name": "stderr",
     "output_type": "stream",
     "text": [
      "[nltk_data] Downloading package punkt_tab to\n",
      "[nltk_data]     C:\\Users\\weiso131\\AppData\\Roaming\\nltk_data...\n",
      "[nltk_data]   Unzipping tokenizers\\punkt_tab.zip.\n"
     ]
    },
    {
     "data": {
      "text/plain": [
       "True"
      ]
     },
     "execution_count": 10,
     "metadata": {},
     "output_type": "execute_result"
    }
   ],
   "source": [
    "from rank_bm25 import BM25Okapi\n",
    "from nltk.tokenize import word_tokenize\n",
    "import nltk\n",
    "\n",
    "# 確保你已下載 NLTK 的 tokenizer 資源\n",
    "nltk.download('punkt_tab')\n",
    "\n"
   ]
  },
  {
   "cell_type": "code",
   "execution_count": 11,
   "metadata": {},
   "outputs": [],
   "source": [
    "# 將文檔中的每個文檔分詞\n",
    "tokenized_documents = [word_tokenize(doc.lower()) for doc in documents]\n",
    "\n",
    "# 建立 BM25 模型\n",
    "bm25 = BM25Okapi(tokenized_documents)"
   ]
  },
  {
   "cell_type": "code",
   "execution_count": 13,
   "metadata": {},
   "outputs": [],
   "source": [
    "# 查詢\n",
    "query = \"Arcaea difficulty\"\n",
    "\n",
    "# 將查詢進行分詞\n",
    "tokenized_query = word_tokenize(query.lower())\n",
    "\n",
    "# 計算每篇文檔的分數\n",
    "doc_scores = bm25.get_scores(tokenized_query)\n",
    "\n",
    "# 列出分數\n",
    "max_score = 0\n",
    "max_index = 0\n",
    "for idx, score in enumerate(doc_scores):\n",
    "    if score > max_score:\n",
    "        max_score = score\n",
    "        max_index = idx"
   ]
  },
  {
   "cell_type": "code",
   "execution_count": 14,
   "metadata": {},
   "outputs": [
    {
     "name": "stderr",
     "output_type": "stream",
     "text": [
      "C:\\Users\\weiso131\\AppData\\Roaming\\Python\\Python312\\site-packages\\tqdm\\auto.py:21: TqdmWarning: IProgress not found. Please update jupyter and ipywidgets. See https://ipywidgets.readthedocs.io/en/stable/user_install.html\n",
      "  from .autonotebook import tqdm as notebook_tqdm\n",
      "You are using the default legacy behaviour of the <class 'transformers.models.t5.tokenization_t5.T5Tokenizer'>. This is expected, and simply means that the `legacy` (previous) behavior will be used so nothing changes for you. If you want to use the new behaviour, set `legacy=False`. This should only be set if you understand what it means, and thoroughly read the reason why this was added as explained in https://github.com/huggingface/transformers/pull/24565\n",
      "C:\\Users\\weiso131\\AppData\\Roaming\\Python\\Python312\\site-packages\\transformers\\tokenization_utils_base.py:1617: FutureWarning: `clean_up_tokenization_spaces` was not set. It will be set to `True` by default. This behavior will be deprecated in transformers v4.45, and will be then set to `False` by default. For more details check this issue: https://github.com/huggingface/transformers/issues/31884\n",
      "  warnings.warn(\n"
     ]
    }
   ],
   "source": [
    "from transformers import T5Tokenizer, T5ForConditionalGeneration\n",
    "\n",
    "# 載入 Flan-T5 模型和分詞器\n",
    "model_name = \"google/flan-t5-small\"  # 小型模型，較輕量\n",
    "tokenizer = T5Tokenizer.from_pretrained(model_name)\n",
    "model = T5ForConditionalGeneration.from_pretrained(model_name)"
   ]
  },
  {
   "cell_type": "code",
   "execution_count": null,
   "metadata": {},
   "outputs": [],
   "source": [
    "retrieved_answer = documents[1]  # 以bm25找到最匹配的文章做為retrieved_answer\n",
    "\n",
    "\n",
    "\n",
    "input_text = f\"Context: {retrieved_answer}\\n\\nQuestion: What difficulties does Arcaea have? Write out their names.\\n\\nAnswer:\"\n",
    "\n",
    "input_ids = tokenizer.encode(input_text, return_tensors=\"pt\")\n",
    "\n",
    "output = model.generate(input_ids, max_length=150, num_return_sequences=1)\n",
    "\n",
    "response = tokenizer.decode(output[0], skip_special_tokens=True)\n",
    "\n",
    "print(input_text)\n",
    "print(response)"
   ]
  }
 ],
 "metadata": {
  "kernelspec": {
   "display_name": "rag",
   "language": "python",
   "name": "python3"
  },
  "language_info": {
   "codemirror_mode": {
    "name": "ipython",
    "version": 3
   },
   "file_extension": ".py",
   "mimetype": "text/x-python",
   "name": "python",
   "nbconvert_exporter": "python",
   "pygments_lexer": "ipython3",
   "version": "3.12.5"
  }
 },
 "nbformat": 4,
 "nbformat_minor": 2
}
