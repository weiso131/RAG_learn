{
 "cells": [
  {
   "cell_type": "code",
   "execution_count": 1,
   "metadata": {},
   "outputs": [
    {
     "data": {
      "text/plain": [
       "['《Arcaea》 （中國大陸官方譯為「韻律源點」 ）是 Lowiro開發的一款三維立體音\\n樂遊戲。遊戲的首個版本於 2017年3月9日在App Store 與Google Play 發\\n布。2023年2月23日，Arcaea下載量突破 1200萬。 \\n',\n",
       " '任天堂Switch版本的Arcaea於2021年5月18日上線，支持觸控和 Joy-Con\\n兩種操作方式。  \\n',\n",
       " '遊戲系統  \\n物件類型  \\nArcaea擁有4種物件類型，分別為 Tap，Hold，ArcTap和Arc，遊戲目標在於\\n在物件落到判定面上時接住這些物件。  \\n',\n",
       " '其中Tap和Hold只會出現在地面的軌道上， ArcTap和Arc有梯形範圍限制\\n（存在少數譜面的部分物件超出這一限制） 。  \\n',\n",
       " '遊戲判定  \\n對於Tap和ArcTap來說，按照其點擊時刻與預期時刻的誤差由小到大可分為以\\n下3類：PURE，FAR和LOST。 \\n',\n",
       " '對於Hold和Arc來說，其本質為數個判定點單獨判定。若在判定點到達判定面\\n時有符合要求的手指在判定區間內，則獲得 PURE判定，反之獲得 LOST判\\n定。  \\n',\n",
       " 'Arc不允許換手。同時，在不開視覺輔助時， Arc的默認手序為左手接藍色\\nArc，右手接紅色 Arc。 \\n',\n",
       " '譜面難度 /定數  遊戲包含五個難度，分別為： Past，Present，Future，Eternal和Beyond。在\\n遊戲內上述五個難度會分別簡稱為 PST，PRS，FTR，ETR和BYD。 \\n',\n",
       " '一般情況下，每首曲目均擁有 Past，Present，Future難度譜面各一張，而少數\\n曲目在移動端擁有 Beyond或Eternal譜面。Beyond譜面可能使用不同的音源\\n和/或曲繪，也存在少數曲目的 Past，Present，Future難度曲繪有不同。絕大\\n多數曲目的各難度按照 Past，Present，Future，Eternal/Beyond 順序難度遞\\n增。  \\n',\n",
       " '每張譜面均有難度標註，範圍為 1~12級。越高的等級標註一般意味著譜面的\\n難度更大。  \\n',\n",
       " '在計算潛力值時，會代入細化難度的定數值以計算。定數最多精確至一位小\\n數。部分低等級的定數劃分檔位相對較少，同時部分高等級則會將定數居於上\\n位的譜面劃為「 +」等級。存在極少數譜面難度標註與上述規則違背。  \\n',\n",
       " '得分與評級  \\n一局遊戲的最終得分由以下兩方面構成：  \\n',\n",
       " '基礎分：滿分為 10 000 000 ，且被均攤至每個判定上。  \\n對於PURE判定，可獲得該次判定對應的所有分數。  \\n對於FAR判定，可獲得該次判定對應的一半分數。  \\n對於LOST判定，不獲得任何分數。  \\n獎勵分：對於每個 Hold/Arc 的PURE判定，或每個更為精準的 Tap/ArcTap 的\\nPURE判定，均可獲得 1分額外的獎勵分。  \\n若一次遊玩獲得了所有的基礎分和獎勵分，則該分數被稱為「理論值」 。  \\n 搭檔  \\n搭檔是遊玩時攜帶的角色。每個搭檔擁有自己的等級和屬性，部分搭檔具有技\\n能，也有部分搭檔擁有故事。  \\n',\n",
       " '等級及覺醒相關  \\n絕大多數搭檔初始等級為 1級，最高可以升級至 20級。部分搭檔可供覺醒，覺\\n醒後等級最高可升至 30級，且立繪發生改變。玩家可通過使用以太之滴或攜帶\\n搭檔遊玩 World模式給搭檔升級。  \\n',\n",
       " '屬性  \\n每個搭檔擁有如下 3個屬性：  \\n',\n",
       " 'FRAG：決定單次遊玩後獲取殘片加成。  \\nSTEP：決定World模式非Lost Chapter:Beyond 章節的步數加成。  \\nOVER：決定Lost Chapter:Beyond 章節的Beyond進度值（僅移動版） 。  \\n實際加成倍率為當前的搭檔數值的 0.02倍。  \\n',\n",
       " '大多數搭檔的屬性值隨著等級增加而增加，一小部分搭檔的一個或多個屬性值\\n保持不動，只有一個搭檔的屬性值隨著等級增加而減少。  \\n',\n",
       " '技能  \\n搭檔的技能主要影響遊戲玩法，不會對分數造成任何影響。根據通關狀態，可\\n以主要分成以下幾類技能：  \\n',\n",
       " '普通模式：初始回憶率為 0，每獲得 PURE或FAR可以填充回憶率，而每獲得\\nLOST會丟失回憶率。最終曲目完成時回憶率達到 70即為通關。  簡單模式：與普通模式類似，但是 LOST丟失回憶率會降低。  \\n困難模式；初始回憶率為 100，獲得LOST會丟失比普通模式多很多的回憶率，\\n而獲得PURE或FAR可以填充因 LOST丟失的回憶率。若中途回憶率降至 0則\\n判定失敗；若曲目結束回憶率仍未降至 0即為通關。  \\n部分搭檔擁有自己獨特的回憶槽填充方式 /遊玩效果，也有部分搭檔能夠在遊玩\\n後獎勵一定數量的殘片。  \\n',\n",
       " '部分搭檔的技能需要搭檔的等級達到一定值或覺醒搭檔後才能生效，也有部分\\n搭檔在覺醒後和覺醒前擁有不同技能。搭檔在覺醒後可以切換至覺醒前的立\\n繪，此時該搭檔的技能也會切換至覺醒前的技能。  \\n',\n",
       " '除了光的技能外，其餘搭檔的技能必須聯網才能使用。  \\n',\n",
       " '潛力值（ Potential ） \\n此為用於量化玩家水平的一個數值，需要搭配帳號使用。該數值也被作為解鎖\\n部分高難度譜面的條件之一。該數值與玩家最近遊玩成績和歷史最高成績有\\n關。  \\n',\n",
       " '玩家的潛力值顯示在頂部頭像右下角，且不同的潛力值會使用不同的框體作為\\n背景。玩家也可以在遊戲中選擇是否展示潛力值。 （若選擇不展示，遊戲會用灰\\n色框體替代顯示潛力值的位置）  \\n',\n",
       " '截至5.3.1，潛力值最大可為 13.12。 \\n',\n",
       " '遊戲模式  \\nMusic Play  \\n最普通的模式，可不受限制地用於遊玩曲目。   \\n遊玩後可獲得殘片，其數值取決於遊玩結果，當前搭檔的技能和其 FRAG值。  \\n',\n",
       " 'World模式  \\n用於解鎖部分曲目，搭檔和場景，也可用於獲取遊戲內道具，需要聯網登入帳\\n號體驗。  \\n',\n",
       " '該模式擁有多個章節，在每個章節內有一定數量的地圖可供選擇。  \\n',\n",
       " '該模式遊玩需要消耗體力，體力自然恢復的最高值為 12格。遊玩不同的地圖，\\n使用不同的增益甚至不同的搭檔均會消耗不同數量的體力，當體力小於等於當\\n前選項所需體力時禁止玩家進入。  \\n',\n",
       " '一般情況下，每個地圖採用類似階梯的形式。玩家選擇地圖進入並遊玩曲目結\\n算後，會獲得步數獎勵，該獎勵與遊玩結果及搭檔的 STEP值有關。可以通過\\n在Legacy模式中使用殘片或在普通模式中使用記憶源點來提升遊玩加成。玩家\\n在此類章節地圖進入並遊玩曲目結算後，會獲得 Beyond計量值獎勵。  \\n',\n",
       " '在Lost Chapter:Beyond 和Breach Chapter 中，完全捨棄了其餘章節的階梯形\\n式地圖，改用以百分數呈現的「 Beyond計量值」 。對於 Lost章節，該獎勵與遊\\n玩結果，該地圖對選擇搭檔加成的「相性契合」值及搭檔的 OVER值有關；對\\n於Breach章節，該獎勵與遊玩結果，每個地圖獨有的「鐫刻法則」有關，有時\\n也和搭檔的 OVER值有關。玩家也可通過使用殘片，記憶源點和 /或Beyond強\\n化計量條來提升遊玩加成。  \\n',\n",
       " '故事模式  \\n由主線故事（ Main Story ） ，支線故事（ Side Story ）和短篇故事（ Short Story ）構成，需要聯網登入帳號體驗。每個故事都與一個或多個搭檔相關。  \\n',\n",
       " '在購買故事對應的曲包 /曲目後，可以通過點擊故事對應的圖標，並通過相關指\\n引來解禁故事。同時，也可以隨時閱讀已解鎖的故事。  \\n',\n",
       " '主線故事已於 2022年7月14日完結。  \\n',\n",
       " 'Link Play 模式  \\n該模式為一個允許最多 4個玩家同時在線遊玩的遊戲模式。  \\n',\n",
       " '每個房間擁有一個獨一無二的六位房間號，玩家在加入未進行遊戲且尚有餘位\\n的房間時只可通過輸入正確的六位房間號進入房間。  \\n',\n",
       " '玩家只能遊玩所有玩家共同擁有的歌曲，但是可以遊玩該歌曲不同難度。  \\n',\n",
       " '待所有玩家均完成遊戲後，方可進入結算頁面。  \\n',\n",
       " '遊戲內道具  \\n殘片  \\n遊戲內免費道具，可由 World模式或遊玩曲目後獲得。  \\n',\n",
       " '在遊戲內可用於解鎖已購買 /免費歌曲譜面。在移動版中也可用於購買世界模式\\n體力，擴充好友數上限，或在 Legacy模式地圖 /Lost Chapter:Beyond/Breached \\nChapter 章節地圖獲得增益。在 Nintendo Switch 版中還可以用於升級搭檔。  \\n 記憶源點  \\n遊戲內付費道具，可以於官方網站購買，或 iOS版使用App Store 內購購買。\\n部分情況下官方也可能會免費發放記憶源點。  \\n',\n",
       " '在遊戲內可用於購買曲包 /歌曲，購買世界模式體力，改名，或在非 Legacy模\\n式地圖/Lost Chapter:Beyond 章節地圖獲得增益。  \\n',\n",
       " '官方曾特別提醒玩家切勿購買第三方商家出售的記憶源點。  \\n',\n",
       " '曾因為App Store 定價問題出現 iOS版使用AppStore 購買兩次 510源點比購買\\n一次1020源點便宜的問題。  \\n',\n",
       " '其他道具  \\n以太之滴：通常可於購買曲包 /單曲時獲贈，或於 World模式中獲得；可用於給\\n搭檔升級。  \\n核心：可於 World模式中獲得；可用於覺醒搭檔。  \\n場景：可於 World模式中獲得；可用於更改主頁背景。  \\n次元結晶：可於 World模式中獲得；可用於段位挑戰。  \\n收錄曲目  \\n截至5.2.5版本，遊戲一共收錄了 367首正式曲目。其中主要包括 Arcaea的原\\n創曲目，與其他音樂遊戲 /藝人組織聯動獲得的曲目以及通過向曲師購買版權獲\\n得的曲目（如 BMS活動曲目） 。  \\n',\n",
       " '有的曲目可以免費遊玩，而有的曲目則需要購買曲包 /單曲且/或達成一定條件\\n才可遊玩。存在極少數隱藏曲在解鎖前不可見或不顯示任何信息。  \\n 所有的曲目均被歸入光芒側、紛爭側或消色側的任意一個分類，每個分類都與\\n其他分類的遊戲頁面有些許不同。可以利用特定搭檔的技能來切換大部分光芒\\n側和紛爭側的遊戲頁面。  \\n',\n",
       " '評價  \\n在手機遊戲網站 TouchArcade 中，Eric Ford 認為該遊戲擁有一種將歡快的歌曲\\n和傳統節奏融合的藝術形式，但是他也提到部分遊戲元素可能會潛在地使遊戲\\n變難。  \\n']"
      ]
     },
     "execution_count": 1,
     "metadata": {},
     "output_type": "execute_result"
    }
   ],
   "source": [
    "from util import make_document\n",
    "\n",
    "DIR_PATH = \"chinese_data/\"\n",
    "\n",
    "documents = make_document(DIR_PATH)\n",
    "documents"
   ]
  },
  {
   "cell_type": "code",
   "execution_count": 2,
   "metadata": {},
   "outputs": [
    {
     "name": "stderr",
     "output_type": "stream",
     "text": [
      "c:\\Users\\weiso131\\anaconda3\\envs\\rag\\Lib\\site-packages\\sentence_transformers\\cross_encoder\\CrossEncoder.py:13: TqdmWarning: IProgress not found. Please update jupyter and ipywidgets. See https://ipywidgets.readthedocs.io/en/stable/user_install.html\n",
      "  from tqdm.autonotebook import tqdm, trange\n"
     ]
    }
   ],
   "source": [
    "from sentence_transformers import SentenceTransformer\n",
    "\n",
    "# 加載模型\n",
    "embbeded_model = SentenceTransformer('thenlper/gte-large-zh')"
   ]
  },
  {
   "cell_type": "code",
   "execution_count": 3,
   "metadata": {},
   "outputs": [
    {
     "name": "stderr",
     "output_type": "stream",
     "text": [
      "C:\\Users\\weiso131\\AppData\\Roaming\\Python\\Python312\\site-packages\\transformers\\models\\bert\\modeling_bert.py:440: UserWarning: 1Torch was not compiled with flash attention. (Triggered internally at C:\\actions-runner\\_work\\pytorch\\pytorch\\builder\\windows\\pytorch\\aten\\src\\ATen\\native\\transformers\\cuda\\sdp_utils.cpp:555.)\n",
      "  attn_output = torch.nn.functional.scaled_dot_product_attention(\n"
     ]
    }
   ],
   "source": [
    "document_ebeddings = embbeded_model.encode(documents)"
   ]
  },
  {
   "cell_type": "code",
   "execution_count": 4,
   "metadata": {},
   "outputs": [
    {
     "name": "stdout",
     "output_type": "stream",
     "text": [
      "最相似的文本: 每張譜面均有難度標註，範圍為 1~12級。越高的等級標註一般意味著譜面的\n",
      "難度更大。  \n",
      "\n",
      "相似度分數: 0.69903904\n"
     ]
    }
   ],
   "source": [
    "from sklearn.metrics.pairwise import cosine_similarity\n",
    "import numpy as np\n",
    "\n",
    "# 使用者查詢\n",
    "user_query = \"介紹Arcaea的難度分級\"\n",
    "\n",
    "# 查詢文本轉換成嵌入向量\n",
    "query_embedding = embbeded_model.encode([user_query])\n",
    "\n",
    "# 計算相似度\n",
    "similarities = cosine_similarity(query_embedding, document_ebeddings)\n",
    "\n",
    "# 找到最相似的文本\n",
    "most_similar_idx = np.argmax(similarities)\n",
    "retrieved_answers = documents[most_similar_idx]\n",
    "print(\"最相似的文本:\", retrieved_answers)\n",
    "print(\"相似度分數:\", similarities[0][most_similar_idx])"
   ]
  },
  {
   "cell_type": "code",
   "execution_count": 5,
   "metadata": {},
   "outputs": [],
   "source": [
    "from transformers import AutoTokenizer, AutoModelForSeq2SeqLM\n",
    "\n",
    "# 加載模型和tokenizer\n",
    "model_name = \"fnlp/bart-base-chinese\"\n",
    "tokenizer = AutoTokenizer.from_pretrained(model_name)\n",
    "model = AutoModelForSeq2SeqLM.from_pretrained(model_name)"
   ]
  },
  {
   "cell_type": "code",
   "execution_count": 7,
   "metadata": {},
   "outputs": [
    {
     "name": "stdout",
     "output_type": "stream",
     "text": [
      "生成的文本: 前 後 文 : 每 張 譜 面 均 有 難 度 標 註 ， 範 圍 為 1 ~ 12 級 難 度 越 高 的 等 級 標 註 一 般 意 味 著 譜 面 的 難 度 更 大 的 提 問 :\n"
     ]
    }
   ],
   "source": [
    "input_text = f\"前後文:{retrieved_answers}\\n\\n 提問:{user_query}\\n\\n 答案:\"\n",
    "\n",
    "# 將文本轉換為模型可讀的格式\n",
    "inputs = tokenizer(input_text, return_tensors=\"pt\", max_length=512, truncation=True)\n",
    "\n",
    "# 移除 'token_type_ids' (BART 不需要這個)\n",
    "inputs.pop('token_type_ids', None)\n",
    "# 生成結果\n",
    "outputs = model.generate(**inputs, max_length=50, num_beams=5, early_stopping=True)\n",
    "\n",
    "# 解碼生成的文本\n",
    "generated_text = tokenizer.decode(outputs[0], skip_special_tokens=True)\n",
    "\n",
    "print(\"生成的文本:\", generated_text)"
   ]
  },
  {
   "cell_type": "code",
   "execution_count": null,
   "metadata": {},
   "outputs": [],
   "source": []
  }
 ],
 "metadata": {
  "kernelspec": {
   "display_name": "rag",
   "language": "python",
   "name": "python3"
  },
  "language_info": {
   "codemirror_mode": {
    "name": "ipython",
    "version": 3
   },
   "file_extension": ".py",
   "mimetype": "text/x-python",
   "name": "python",
   "nbconvert_exporter": "python",
   "pygments_lexer": "ipython3",
   "version": "3.12.5"
  }
 },
 "nbformat": 4,
 "nbformat_minor": 2
}
